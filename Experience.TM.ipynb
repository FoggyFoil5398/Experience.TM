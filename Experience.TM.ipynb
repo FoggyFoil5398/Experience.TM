{
 "cells": [
  {
   "cell_type": "code",
   "execution_count": 1,
   "metadata": {
    "collapsed": true
   },
   "outputs": [],
   "source": [
    "import MySQLdb\n",
    "import os\n",
    "import pickle\n",
    "import pandas as pd"
   ]
  },
  {
   "cell_type": "code",
   "execution_count": 2,
   "metadata": {
    "collapsed": true
   },
   "outputs": [],
   "source": [
    "conn = MySQLdb.connect(host = 'localhost', user = 'root', password = 'root')"
   ]
  },
  {
   "cell_type": "code",
   "execution_count": 3,
   "metadata": {
    "collapsed": true
   },
   "outputs": [],
   "source": [
    "cursor = conn.cursor()"
   ]
  },
  {
   "cell_type": "code",
   "execution_count": null,
   "metadata": {
    "collapsed": true
   },
   "outputs": [],
   "source": [
    "cursor.execute('create database EXPERIENCE')"
   ]
  },
  {
   "cell_type": "code",
   "execution_count": 4,
   "metadata": {},
   "outputs": [
    {
     "data": {
      "text/plain": [
       "0"
      ]
     },
     "execution_count": 4,
     "metadata": {},
     "output_type": "execute_result"
    }
   ],
   "source": [
    "cursor.execute('use EXPERIENCE')"
   ]
  },
  {
   "cell_type": "code",
   "execution_count": 5,
   "metadata": {},
   "outputs": [
    {
     "data": {
      "text/plain": [
       "0"
      ]
     },
     "execution_count": 5,
     "metadata": {},
     "output_type": "execute_result"
    }
   ],
   "source": [
    "cursor.execute('drop table login')\n",
    "cursor.execute('create table LOGIN (username varchar(20), password varchar(20))')"
   ]
  },
  {
   "cell_type": "code",
   "execution_count": 6,
   "metadata": {},
   "outputs": [
    {
     "data": {
      "text/plain": [
       "0"
      ]
     },
     "execution_count": 6,
     "metadata": {},
     "output_type": "execute_result"
    }
   ],
   "source": [
    "cursor.execute('drop table newpost')\n",
    "cursor.execute('create table newpost (username varchar(20), postid int NOT NULL AUTO_INCREMENT PRIMARY KEY, category varchar(15))')"
   ]
  },
  {
   "cell_type": "code",
   "execution_count": 7,
   "metadata": {},
   "outputs": [
    {
     "data": {
      "text/plain": [
       "0"
      ]
     },
     "execution_count": 7,
     "metadata": {},
     "output_type": "execute_result"
    }
   ],
   "source": [
    "cursor.execute('drop table category')\n",
    "cursor.execute('create table category (username varchar(20), clickedid int, clickedcategory varchar(15))')"
   ]
  },
  {
   "cell_type": "code",
   "execution_count": null,
   "metadata": {
    "collapsed": true
   },
   "outputs": [],
   "source": [
    "def save_descriptions(descriptions, filename):\n",
    "    lines = list()\n",
    "    for key, desc_list in descriptions.items():\n",
    "        for desc in desc_list:\n",
    "            lines.append(key + ' ' + desc)\n",
    "    data = '\\n'.join(lines)\n",
    "    file = open(filename, 'w')\n",
    "    file.write(data)\n",
    "    file.close()"
   ]
  },
  {
   "cell_type": "code",
   "execution_count": 162,
   "metadata": {},
   "outputs": [],
   "source": [
    "def load_doc(filename):\n",
    "    file = open(filename, 'r')\n",
    "    text = file.read()\n",
    "    file.close()\n",
    "    return text\n",
    "\n",
    "def load_comments(filename, idd):\n",
    "    doc = load_doc(filename)\n",
    "    \n",
    "    if(len(doc)>0):\n",
    "        i=1\n",
    "        for line in doc.split('::'):\n",
    "            tokens = line.split()\n",
    "            if(len(tokens)>0):\n",
    "                comment_id, comment_desc = tokens[0], tokens[1:]\n",
    "                \n",
    "                if (comment_id==str(idd)):\n",
    "                    comment_desc = ' '.join(comment_desc)\n",
    "                    print(str(i)+'. '+comment_desc.strip())\n",
    "                    i=i+1    \n",
    "    else:\n",
    "        print(\"Post has no comments yet !\")\n",
    "    return"
   ]
  },
  {
   "cell_type": "code",
   "execution_count": 164,
   "metadata": {
    "collapsed": true
   },
   "outputs": [],
   "source": [
    "def comment(user):\n",
    "    print(\"Enter postID to view post(enter 0 to exit) : \")\n",
    "    idd = int(input())\n",
    "    if(idd != 0):\n",
    "        cursor.execute('select * from newpost ')\n",
    "        result = cursor.fetchall()\n",
    "        category='None'\n",
    "        for i in result: \n",
    "            category = i[2]\n",
    "            break\n",
    "        cursor.execute('insert into category values(%s,%s,%s)',(user,idd,category))\n",
    "        df = pd.read_csv('posts.csv')\n",
    "        if(idd>len(df.index)):\n",
    "            print(\"Post does not exist ! \")\n",
    "        else:\n",
    "            print(\"Title : \"+df.iloc[idd-1][1])\n",
    "            print()\n",
    "            print(\"Description : \"+df.iloc[idd-1][2])\n",
    "            print()  \n",
    "            print(\"Comments : \")\n",
    "            print()\n",
    "            filename = 'comments.txt'\n",
    "            load_comments(filename, idd)\n",
    "            while(1):\n",
    "                print()\n",
    "                print(\"1. Comment\")\n",
    "                print(\"2. Back\")\n",
    "                print(\"Enter choice : \")\n",
    "                choice = int(input())\n",
    "                if(choice==1):\n",
    "                    print(\"Enter Comment : \")\n",
    "                    comment = input()\n",
    "                    comment = str(idd) +' '+ comment + '::'\n",
    "                    file = open(filename, 'a')\n",
    "                    file.write(comment)\n",
    "                    file.close()\n",
    "                    break\n",
    "                elif(choice==2):\n",
    "                    break\n",
    "                else:\n",
    "                    print(\"Incorrect input enter again !\")"
   ]
  },
  {
   "cell_type": "code",
   "execution_count": 11,
   "metadata": {
    "collapsed": true
   },
   "outputs": [],
   "source": [
    "def seeposts(user):\n",
    "    print(\"Recommended : \")\n",
    "    recommended(user)\n",
    "    print(\"New : \")\n",
    "    new(user)\n",
    "    while(1):\n",
    "        print(\"1. View post\")\n",
    "        print(\"2. Back\")\n",
    "        print(\"Enter choice : \")\n",
    "        choice = int(input())\n",
    "        if(choice==1):\n",
    "            comment(user)\n",
    "        elif(choice == 2):\n",
    "            break\n",
    "        else:\n",
    "            print(\"Incorrect input enter again !\")"
   ]
  },
  {
   "cell_type": "code",
   "execution_count": 10,
   "metadata": {
    "collapsed": true
   },
   "outputs": [],
   "source": [
    "def newpost(user):\n",
    "    while(1):   \n",
    "        print(\"Enter title of problem : \")\n",
    "        title = input()\n",
    "        vectorizer = pickle.load(open(\"experiencevectorizerpickle.pickle\", \"rb\"))\n",
    "        t = vectorizer.transform([title])\n",
    "        loaded_model = pickle.load(open('experience_classifier_model.sav', 'rb'))\n",
    "        category = loaded_model.predict(t)[0]\n",
    "        print(\"Enter description : \")\n",
    "        description = input()\n",
    "        print()\n",
    "        print(\"Title : \"+title)\n",
    "        print(\"Description : \"+description)\n",
    "\n",
    "        print(\"1. Post\")\n",
    "        print(\"2. Rewrite\")\n",
    "        print(\"Enter choice : \")\n",
    "        choice = int(input())\n",
    "        if(choice == 1):\n",
    "            break\n",
    "        elif(choice == 2):\n",
    "            continue\n",
    "        else:\n",
    "            print(\"Incorrect input\")\n",
    "    \n",
    "    cursor.execute('insert into newpost(username, category) values (%s,%s)',(user, category))\n",
    "    cursor.execute('SELECT * FROM newpost ORDER BY postid DESC LIMIT 1')\n",
    "    results = cursor.fetchall()\n",
    "    for i in results :\n",
    "        continue\n",
    "    raw = [[i[1],title,description]]\n",
    "    df = pd.DataFrame(raw)\n",
    "    if(i[1]==1):\n",
    "        df.to_csv('posts.csv',index = False, mode = 'a')\n",
    "    else:\n",
    "        df.to_csv('posts.csv',index = False, mode = 'a', header = None)\n",
    "    print()\n",
    "    print(\"Posted !\")"
   ]
  },
  {
   "cell_type": "code",
   "execution_count": 9,
   "metadata": {
    "collapsed": true
   },
   "outputs": [],
   "source": [
    "def login(user, password):\n",
    "    while(1):\n",
    "        print(\"1. New post\")\n",
    "        print(\"2. See posts\")\n",
    "        print(\"3. Your posts\")\n",
    "        print(\"4. Logout\")\n",
    "        print(\"Enter choice : \")\n",
    "        choice = int(input())\n",
    "        if(choice == 1):\n",
    "            newpost(user)\n",
    "        elif(choice == 2):\n",
    "            seeposts(user)\n",
    "        elif(choice == 3):\n",
    "            yourposts(user)\n",
    "        elif(choice == 4):\n",
    "            print(\"Logged out !\")\n",
    "            break\n",
    "        else:\n",
    "            print(\"Incorrect choice, enter again !\")"
   ]
  },
  {
   "cell_type": "code",
   "execution_count": 8,
   "metadata": {},
   "outputs": [
    {
     "name": "stdout",
     "output_type": "stream",
     "text": [
      "1. Login\n",
      "2. Sign up\n",
      "3. Exit\n",
      "Enter choice : \n",
      "3\n",
      "Goodbye ! \n"
     ]
    }
   ],
   "source": [
    "while(1):\n",
    "    \n",
    "    os.system('clear')\n",
    "    print(\"1. Login\")\n",
    "    print(\"2. Sign up\")\n",
    "    print(\"3. Exit\")\n",
    "    print(\"Enter choice : \")\n",
    "    choice = int(input())\n",
    "    \n",
    "    if(choice == 1):\n",
    "        \n",
    "        print(\"Enter username : \")\n",
    "        user = input()\n",
    "        print(\"Enter password : \")\n",
    "        password = input()\n",
    "        cursor.execute('select * from LOGIN')\n",
    "        results = cursor.fetchall()\n",
    "        k = 0\n",
    "        \n",
    "        for i in results:\n",
    "            if(i[0]==user):\n",
    "                k=k+1\n",
    "                if(i[1]==password):\n",
    "                    k=k+1\n",
    "                    break\n",
    "        \n",
    "        if(k==2):\n",
    "            print(\"successfully Logged in\")\n",
    "            login(user, password)\n",
    "        else:\n",
    "            print(\"Incorrect Username/ Password\")\n",
    "    \n",
    "    elif(choice==2):\n",
    "        \n",
    "        while(1):\n",
    "            print(\"Enter new username : \")\n",
    "            user = input()\n",
    "            cursor.execute('select * from LOGIN')\n",
    "            result = cursor.fetchall()\n",
    "            flag = 0\n",
    "            for i in result:\n",
    "                if (i[0]==user):\n",
    "                    flag = 1\n",
    "                    print(\"Username already taken. Enter again !\")\n",
    "            if(flag==0):\n",
    "                break\n",
    "            \n",
    "        print(\"Enter new password : \")\n",
    "        password = input()\n",
    "        cursor.execute('insert into LOGIN values(%s,%s)',(user,password))\n",
    "    \n",
    "    elif(choice==3):\n",
    "        print(\"Goodbye ! \")\n",
    "        break\n",
    "    \n",
    "    else:\n",
    "        print(\"Incorrect choice, enter again\")"
   ]
  },
  {
   "cell_type": "code",
   "execution_count": 20,
   "metadata": {},
   "outputs": [
    {
     "name": "stdout",
     "output_type": "stream",
     "text": [
      "Enter title of problem : \n",
      "2nd title\n",
      "Enter description : \n",
      "2nd description\n",
      "\n",
      "Title : 2nd title\n",
      "Description : 2nd description\n",
      "1. Post\n",
      "2. Rewrite\n",
      "Enter choice : \n",
      "1\n",
      "\n",
      "Posted !\n"
     ]
    }
   ],
   "source": [
    "newpost('rishabh')"
   ]
  },
  {
   "cell_type": "code",
   "execution_count": 166,
   "metadata": {},
   "outputs": [
    {
     "name": "stdout",
     "output_type": "stream",
     "text": [
      "Enter postID to view post(enter 0 to exit) : \n",
      "1\n",
      "Title : 1st title\n",
      "\n",
      "Description : 1st description\n",
      "\n",
      "Comments : \n",
      "\n",
      "1. Hello mere bhai\n",
      "2. Hello bhai sahab\n",
      "3. Or kya haal hai\n",
      "\n",
      "1. Comment\n",
      "2. Back\n",
      "Enter choice : \n",
      "2\n"
     ]
    }
   ],
   "source": [
    "comment('rishabh')"
   ]
  },
  {
   "cell_type": "code",
   "execution_count": 92,
   "metadata": {},
   "outputs": [
    {
     "data": {
      "text/plain": [
       "(('rishabh', 1, 'None'), ('rishabh', 1, 'None'), ('rishabh', 1, 'friends'))"
      ]
     },
     "execution_count": 92,
     "metadata": {},
     "output_type": "execute_result"
    }
   ],
   "source": [
    "cursor.execute('select * from category')\n",
    "cursor.fetchall()"
   ]
  },
  {
   "cell_type": "code",
   "execution_count": 19,
   "metadata": {},
   "outputs": [
    {
     "data": {
      "text/html": [
       "<div>\n",
       "<style>\n",
       "    .dataframe thead tr:only-child th {\n",
       "        text-align: right;\n",
       "    }\n",
       "\n",
       "    .dataframe thead th {\n",
       "        text-align: left;\n",
       "    }\n",
       "\n",
       "    .dataframe tbody tr th {\n",
       "        vertical-align: top;\n",
       "    }\n",
       "</style>\n",
       "<table border=\"1\" class=\"dataframe\">\n",
       "  <thead>\n",
       "    <tr style=\"text-align: right;\">\n",
       "      <th></th>\n",
       "      <th>0</th>\n",
       "      <th>1</th>\n",
       "      <th>2</th>\n",
       "    </tr>\n",
       "  </thead>\n",
       "  <tbody>\n",
       "    <tr>\n",
       "      <th>0</th>\n",
       "      <td>1</td>\n",
       "      <td>1st title</td>\n",
       "      <td>1st description</td>\n",
       "    </tr>\n",
       "  </tbody>\n",
       "</table>\n",
       "</div>"
      ],
      "text/plain": [
       "   0          1                2\n",
       "0  1  1st title  1st description"
      ]
     },
     "execution_count": 19,
     "metadata": {},
     "output_type": "execute_result"
    }
   ],
   "source": [
    "df = pd.read_csv('posts.csv')\n",
    "df.head(10)"
   ]
  },
  {
   "cell_type": "code",
   "execution_count": 132,
   "metadata": {},
   "outputs": [
    {
     "data": {
      "text/plain": [
       "0"
      ]
     },
     "execution_count": 132,
     "metadata": {},
     "output_type": "execute_result"
    }
   ],
   "source": [
    "li = []\n",
    "len(li)"
   ]
  }
 ],
 "metadata": {
  "kernelspec": {
   "display_name": "Python 3",
   "language": "python",
   "name": "python3"
  },
  "language_info": {
   "codemirror_mode": {
    "name": "ipython",
    "version": 3
   },
   "file_extension": ".py",
   "mimetype": "text/x-python",
   "name": "python",
   "nbconvert_exporter": "python",
   "pygments_lexer": "ipython3",
   "version": "3.6.3"
  }
 },
 "nbformat": 4,
 "nbformat_minor": 2
}
